{
 "cells": [
  {
   "cell_type": "code",
   "execution_count": 1,
   "metadata": {},
   "outputs": [],
   "source": [
    "import os\n",
    "import pandas as pd\n",
    "from glob import glob\n",
    "from tqdm import tqdm"
   ]
  },
  {
   "cell_type": "code",
   "execution_count": 2,
   "metadata": {},
   "outputs": [],
   "source": [
    "save_dir = \"/Users/ryo/Documents/Lab/Jetson/jetson_csv/9-20/\"\n",
    "folder = \"コンベンション交差点\""
   ]
  },
  {
   "cell_type": "code",
   "execution_count": 3,
   "metadata": {},
   "outputs": [],
   "source": [
    "csvs = glob(f\"{save_dir}/{folder}/extraction/*.csv\")"
   ]
  },
  {
   "cell_type": "code",
   "execution_count": 4,
   "metadata": {},
   "outputs": [],
   "source": [
    "csvs.sort()"
   ]
  },
  {
   "cell_type": "code",
   "execution_count": 5,
   "metadata": {},
   "outputs": [
    {
     "name": "stderr",
     "output_type": "stream",
     "text": [
      "100%|██████████| 66181/66181 [00:56<00:00, 1166.32it/s]\n"
     ]
    }
   ],
   "source": [
    "df = pd.concat([pd.read_csv(csv) for csv in tqdm(csvs)])"
   ]
  },
  {
   "cell_type": "code",
   "execution_count": 6,
   "metadata": {},
   "outputs": [],
   "source": [
    "df = df.drop(columns=[\"Unnamed: 0\", \"frameId\", \"id\", \"bearing\", \"angleWithCountingLine\"], axis=1)"
   ]
  },
  {
   "cell_type": "code",
   "execution_count": 7,
   "metadata": {},
   "outputs": [],
   "source": [
    "df[\"day\"] = df[\"timestamp\"].apply(lambda x: str(x)[:11])"
   ]
  },
  {
   "cell_type": "code",
   "execution_count": 8,
   "metadata": {},
   "outputs": [],
   "source": [
    "df.to_csv(f\"{save_dir}/{folder}.csv\")"
   ]
  },
  {
   "cell_type": "code",
   "execution_count": 9,
   "metadata": {},
   "outputs": [
    {
     "data": {
      "text/html": [
       "<div>\n",
       "<style scoped>\n",
       "    .dataframe tbody tr th:only-of-type {\n",
       "        vertical-align: middle;\n",
       "    }\n",
       "\n",
       "    .dataframe tbody tr th {\n",
       "        vertical-align: top;\n",
       "    }\n",
       "\n",
       "    .dataframe thead th {\n",
       "        text-align: right;\n",
       "    }\n",
       "</style>\n",
       "<table border=\"1\" class=\"dataframe\">\n",
       "  <thead>\n",
       "    <tr style=\"text-align: right;\">\n",
       "      <th></th>\n",
       "      <th>timestamp</th>\n",
       "      <th>area</th>\n",
       "      <th>name</th>\n",
       "      <th>countingDirection</th>\n",
       "      <th>day</th>\n",
       "    </tr>\n",
       "  </thead>\n",
       "  <tbody>\n",
       "    <tr>\n",
       "      <th>0</th>\n",
       "      <td>2021-06-08 01:22:49.213</td>\n",
       "      <td>6f5ffc72-fcd6-488c-b070-868ea9dedc62</td>\n",
       "      <td>person</td>\n",
       "      <td>rightleft_bottomtop</td>\n",
       "      <td>2021-06-08</td>\n",
       "    </tr>\n",
       "    <tr>\n",
       "      <th>0</th>\n",
       "      <td>2021-06-08 01:23:15.969</td>\n",
       "      <td>6f5ffc72-fcd6-488c-b070-868ea9dedc62</td>\n",
       "      <td>person</td>\n",
       "      <td>leftright_topbottom</td>\n",
       "      <td>2021-06-08</td>\n",
       "    </tr>\n",
       "    <tr>\n",
       "      <th>0</th>\n",
       "      <td>2021-06-08 02:00:44.607</td>\n",
       "      <td>6f5ffc72-fcd6-488c-b070-868ea9dedc62</td>\n",
       "      <td>person</td>\n",
       "      <td>leftright_topbottom</td>\n",
       "      <td>2021-06-08</td>\n",
       "    </tr>\n",
       "    <tr>\n",
       "      <th>1</th>\n",
       "      <td>2021-06-08 02:00:51.696</td>\n",
       "      <td>6f5ffc72-fcd6-488c-b070-868ea9dedc62</td>\n",
       "      <td>person</td>\n",
       "      <td>rightleft_bottomtop</td>\n",
       "      <td>2021-06-08</td>\n",
       "    </tr>\n",
       "    <tr>\n",
       "      <th>2</th>\n",
       "      <td>2021-06-08 02:01:00.436</td>\n",
       "      <td>6f5ffc72-fcd6-488c-b070-868ea9dedc62</td>\n",
       "      <td>tvmonitor</td>\n",
       "      <td>rightleft_bottomtop</td>\n",
       "      <td>2021-06-08</td>\n",
       "    </tr>\n",
       "    <tr>\n",
       "      <th>...</th>\n",
       "      <td>...</td>\n",
       "      <td>...</td>\n",
       "      <td>...</td>\n",
       "      <td>...</td>\n",
       "      <td>...</td>\n",
       "    </tr>\n",
       "    <tr>\n",
       "      <th>44008</th>\n",
       "      <td>2021-09-20 14:54:36.960</td>\n",
       "      <td>0bfc7ed6-04b2-4bec-8645-4044b4874fa7</td>\n",
       "      <td>car</td>\n",
       "      <td>rightleft_bottomtop</td>\n",
       "      <td>2021-09-20</td>\n",
       "    </tr>\n",
       "    <tr>\n",
       "      <th>44009</th>\n",
       "      <td>2021-09-20 14:54:38.647</td>\n",
       "      <td>2636efea-ec0c-4810-ab1b-1cc9cb286be8</td>\n",
       "      <td>car</td>\n",
       "      <td>rightleft_bottomtop</td>\n",
       "      <td>2021-09-20</td>\n",
       "    </tr>\n",
       "    <tr>\n",
       "      <th>44010</th>\n",
       "      <td>2021-09-20 14:55:43.670</td>\n",
       "      <td>0bfc7ed6-04b2-4bec-8645-4044b4874fa7</td>\n",
       "      <td>car</td>\n",
       "      <td>leftright_topbottom</td>\n",
       "      <td>2021-09-20</td>\n",
       "    </tr>\n",
       "    <tr>\n",
       "      <th>44011</th>\n",
       "      <td>2021-09-20 14:55:44.812</td>\n",
       "      <td>97df515f-7f3f-487c-bdb4-20aa1e07ae02</td>\n",
       "      <td>car</td>\n",
       "      <td>leftright_topbottom</td>\n",
       "      <td>2021-09-20</td>\n",
       "    </tr>\n",
       "    <tr>\n",
       "      <th>44012</th>\n",
       "      <td>2021-09-20 14:56:58.887</td>\n",
       "      <td>3ef7cf5f-1407-49d3-8a2a-274e6c228133</td>\n",
       "      <td>car</td>\n",
       "      <td>leftright_topbottom</td>\n",
       "      <td>2021-09-20</td>\n",
       "    </tr>\n",
       "  </tbody>\n",
       "</table>\n",
       "<p>1017509 rows × 5 columns</p>\n",
       "</div>"
      ],
      "text/plain": [
       "                     timestamp                                  area  \\\n",
       "0      2021-06-08 01:22:49.213  6f5ffc72-fcd6-488c-b070-868ea9dedc62   \n",
       "0      2021-06-08 01:23:15.969  6f5ffc72-fcd6-488c-b070-868ea9dedc62   \n",
       "0      2021-06-08 02:00:44.607  6f5ffc72-fcd6-488c-b070-868ea9dedc62   \n",
       "1      2021-06-08 02:00:51.696  6f5ffc72-fcd6-488c-b070-868ea9dedc62   \n",
       "2      2021-06-08 02:01:00.436  6f5ffc72-fcd6-488c-b070-868ea9dedc62   \n",
       "...                        ...                                   ...   \n",
       "44008  2021-09-20 14:54:36.960  0bfc7ed6-04b2-4bec-8645-4044b4874fa7   \n",
       "44009  2021-09-20 14:54:38.647  2636efea-ec0c-4810-ab1b-1cc9cb286be8   \n",
       "44010  2021-09-20 14:55:43.670  0bfc7ed6-04b2-4bec-8645-4044b4874fa7   \n",
       "44011  2021-09-20 14:55:44.812  97df515f-7f3f-487c-bdb4-20aa1e07ae02   \n",
       "44012  2021-09-20 14:56:58.887  3ef7cf5f-1407-49d3-8a2a-274e6c228133   \n",
       "\n",
       "            name    countingDirection          day  \n",
       "0         person  rightleft_bottomtop  2021-06-08   \n",
       "0         person  leftright_topbottom  2021-06-08   \n",
       "0         person  leftright_topbottom  2021-06-08   \n",
       "1         person  rightleft_bottomtop  2021-06-08   \n",
       "2      tvmonitor  rightleft_bottomtop  2021-06-08   \n",
       "...          ...                  ...          ...  \n",
       "44008        car  rightleft_bottomtop  2021-09-20   \n",
       "44009        car  rightleft_bottomtop  2021-09-20   \n",
       "44010        car  leftright_topbottom  2021-09-20   \n",
       "44011        car  leftright_topbottom  2021-09-20   \n",
       "44012        car  leftright_topbottom  2021-09-20   \n",
       "\n",
       "[1017509 rows x 5 columns]"
      ]
     },
     "execution_count": 9,
     "metadata": {},
     "output_type": "execute_result"
    }
   ],
   "source": [
    "df"
   ]
  },
  {
   "cell_type": "code",
   "execution_count": null,
   "metadata": {},
   "outputs": [],
   "source": []
  }
 ],
 "metadata": {
  "kernelspec": {
   "display_name": "Python 3",
   "language": "python",
   "name": "python3"
  },
  "language_info": {
   "codemirror_mode": {
    "name": "ipython",
    "version": 3
   },
   "file_extension": ".py",
   "mimetype": "text/x-python",
   "name": "python",
   "nbconvert_exporter": "python",
   "pygments_lexer": "ipython3",
   "version": "3.8.5"
  }
 },
 "nbformat": 4,
 "nbformat_minor": 4
}
