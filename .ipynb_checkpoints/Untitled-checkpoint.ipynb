{
 "cells": [
  {
   "cell_type": "code",
   "execution_count": 11,
   "metadata": {},
   "outputs": [],
   "source": [
    "import yaml"
   ]
  },
  {
   "cell_type": "code",
   "execution_count": 16,
   "metadata": {},
   "outputs": [
    {
     "name": "stdout",
     "output_type": "stream",
     "text": [
      "[{'place': 'まるっとプラザ', 'day_csv': './hogehoge/marutto.csv', 'week_csv': './hogehoge/marutto.csv', 'time_csv': './hogehoge/marutto.csv', 'pic': './hogehoge/picpic.png'}, {'place': 'まるっとプラザ2', 'day_csv': './hogehoge/marutto.csv', 'week_csv': './hogehoge/marutto.csv', 'time_csv': './hogehoge/marutto.csv', 'pic': './hogehoge/picpic.png'}]\n"
     ]
    }
   ],
   "source": [
    "with open(\"./place.yaml\") as f:\n",
    "    obj = yaml.safe_load(f)\n",
    "    print(obj)"
   ]
  },
  {
   "cell_type": "code",
   "execution_count": 17,
   "metadata": {},
   "outputs": [
    {
     "data": {
      "text/plain": [
       "[{'place': 'まるっとプラザ',\n",
       "  'day_csv': './hogehoge/marutto.csv',\n",
       "  'week_csv': './hogehoge/marutto.csv',\n",
       "  'time_csv': './hogehoge/marutto.csv',\n",
       "  'pic': './hogehoge/picpic.png'},\n",
       " {'place': 'まるっとプラザ2',\n",
       "  'day_csv': './hogehoge/marutto.csv',\n",
       "  'week_csv': './hogehoge/marutto.csv',\n",
       "  'time_csv': './hogehoge/marutto.csv',\n",
       "  'pic': './hogehoge/picpic.png'}]"
      ]
     },
     "execution_count": 17,
     "metadata": {},
     "output_type": "execute_result"
    }
   ],
   "source": [
    "obj"
   ]
  },
  {
   "cell_type": "code",
   "execution_count": null,
   "metadata": {},
   "outputs": [],
   "source": []
  }
 ],
 "metadata": {
  "kernelspec": {
   "display_name": "Python 3",
   "language": "python",
   "name": "python3"
  },
  "language_info": {
   "codemirror_mode": {
    "name": "ipython",
    "version": 3
   },
   "file_extension": ".py",
   "mimetype": "text/x-python",
   "name": "python",
   "nbconvert_exporter": "python",
   "pygments_lexer": "ipython3",
   "version": "3.8.5"
  }
 },
 "nbformat": 4,
 "nbformat_minor": 4
}
