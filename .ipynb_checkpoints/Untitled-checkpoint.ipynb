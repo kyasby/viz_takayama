{
 "cells": [
  {
   "cell_type": "code",
   "execution_count": 8,
   "metadata": {},
   "outputs": [],
   "source": [
    "import pandas as pd\n",
    "import json\n",
    "from tqdm import tqdm"
   ]
  },
  {
   "cell_type": "code",
   "execution_count": 2,
   "metadata": {},
   "outputs": [],
   "source": [
    "df = pd.read_json(\"/Users/ryo/Documents/rec.json\", lines=True)"
   ]
  },
  {
   "cell_type": "code",
   "execution_count": 14,
   "metadata": {},
   "outputs": [
    {
     "name": "stderr",
     "output_type": "stream",
     "text": [
      "100%|██████████| 48285/48285 [00:12<00:00, 3915.03it/s] \n"
     ]
    }
   ],
   "source": [
    "l = []\n",
    "for i in tqdm(range(len(df))):\n",
    "    try:\n",
    "        l.append(pd.DataFrame(df.iloc[i][\"counterHistory\"]))\n",
    "    except ValueError:\n",
    "        pass"
   ]
  },
  {
   "cell_type": "code",
   "execution_count": 16,
   "metadata": {},
   "outputs": [
    {
     "data": {
      "text/plain": [
       "16581"
      ]
     },
     "execution_count": 16,
     "metadata": {},
     "output_type": "execute_result"
    }
   ],
   "source": [
    "len(l)"
   ]
  },
  {
   "cell_type": "code",
   "execution_count": 20,
   "metadata": {},
   "outputs": [
    {
     "data": {
      "text/plain": [
       "[   frameId                              timestamp  \\\n",
       " 0   924035  {'$date': '2021-06-10T07:03:43.021Z'}   \n",
       " \n",
       "                                    area name     id  bearing  \\\n",
       " 0  f51fedf8-3ad3-4276-91e2-e25f51b3d1ee  car  66459      315   \n",
       " \n",
       "      countingDirection  angleWithCountingLine  \n",
       " 0  rightleft_bottomtop               65.58943  ,\n",
       "    frameId                              timestamp  \\\n",
       " 0   924330  {'$date': '2021-06-10T07:04:17.178Z'}   \n",
       " \n",
       "                                    area   name     id     bearing  \\\n",
       " 0  f51fedf8-3ad3-4276-91e2-e25f51b3d1ee  truck  66471  307.874984   \n",
       " \n",
       "      countingDirection  angleWithCountingLine  \n",
       " 0  rightleft_bottomtop              58.464414  ]"
      ]
     },
     "execution_count": 20,
     "metadata": {},
     "output_type": "execute_result"
    }
   ],
   "source": [
    "c = 0\n",
    "for ll in l:\n",
    "    ll.to_csv(f\"./{c}.csv\")"
   ]
  },
  {
   "cell_type": "code",
   "execution_count": null,
   "metadata": {},
   "outputs": [],
   "source": []
  }
 ],
 "metadata": {
  "kernelspec": {
   "display_name": "Python 3",
   "language": "python",
   "name": "python3"
  },
  "language_info": {
   "codemirror_mode": {
    "name": "ipython",
    "version": 3
   },
   "file_extension": ".py",
   "mimetype": "text/x-python",
   "name": "python",
   "nbconvert_exporter": "python",
   "pygments_lexer": "ipython3",
   "version": "3.8.5"
  }
 },
 "nbformat": 4,
 "nbformat_minor": 4
}
